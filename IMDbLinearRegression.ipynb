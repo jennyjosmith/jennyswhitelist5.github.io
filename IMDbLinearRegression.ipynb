{
 "cells": [
  {
   "cell_type": "code",
   "execution_count": 69,
   "metadata": {},
   "outputs": [],
   "source": [
    "%matplotlib inline\n",
    "import matplotlib.pyplot as plt\n",
    "import numpy as np\n",
    "import pandas as pd"
   ]
  },
  {
   "cell_type": "markdown",
   "metadata": {},
   "source": [
    "# IMDb Movie Data\n",
    "source: imdb.com\n",
    "\n",
    "Summary: Major movie releases in 2017 that received the most votes on IMDb. "
   ]
  },
  {
   "cell_type": "code",
   "execution_count": 70,
   "metadata": {},
   "outputs": [
    {
     "data": {
      "text/html": [
       "<div>\n",
       "<style scoped>\n",
       "    .dataframe tbody tr th:only-of-type {\n",
       "        vertical-align: middle;\n",
       "    }\n",
       "\n",
       "    .dataframe tbody tr th {\n",
       "        vertical-align: top;\n",
       "    }\n",
       "\n",
       "    .dataframe thead th {\n",
       "        text-align: right;\n",
       "    }\n",
       "</style>\n",
       "<table border=\"1\" class=\"dataframe\">\n",
       "  <thead>\n",
       "    <tr style=\"text-align: right;\">\n",
       "      <th></th>\n",
       "      <th>Top Grossing 2017</th>\n",
       "      <th>Bottom ROI 2017</th>\n",
       "      <th>Most iMDb votes</th>\n",
       "      <th>Title</th>\n",
       "      <th>Est Production Budget $M</th>\n",
       "      <th>US Box $M</th>\n",
       "      <th>Number iMDB Reviews</th>\n",
       "      <th>WeightedAVG</th>\n",
       "      <th>METACRITIC REVIEW ON NOV 21 2018</th>\n",
       "      <th>Adjusted Metacritic Review</th>\n",
       "      <th>...</th>\n",
       "      <th>mAVG</th>\n",
       "      <th>fAVG</th>\n",
       "      <th>GLOBAL &lt;18 AVG</th>\n",
       "      <th>GLOBAL &lt;18 VOTES</th>\n",
       "      <th>GLOBAL 18-29 AVG</th>\n",
       "      <th>GLOBAL 18-29 VOTES</th>\n",
       "      <th>GLOBAL 30-44 AVG</th>\n",
       "      <th>GLOBAL 30-44 VOTES</th>\n",
       "      <th>GLOBAL 45+ AVG</th>\n",
       "      <th>GLOBAL 45+ VOTES</th>\n",
       "    </tr>\n",
       "  </thead>\n",
       "  <tbody>\n",
       "    <tr>\n",
       "      <th>0</th>\n",
       "      <td>True</td>\n",
       "      <td>NaN</td>\n",
       "      <td>True</td>\n",
       "      <td>Logan</td>\n",
       "      <td>97.0</td>\n",
       "      <td>226.28</td>\n",
       "      <td>519934.0</td>\n",
       "      <td>8.1</td>\n",
       "      <td>77.0</td>\n",
       "      <td>7.7</td>\n",
       "      <td>...</td>\n",
       "      <td>8.1</td>\n",
       "      <td>8.0</td>\n",
       "      <td>8.8</td>\n",
       "      <td>2187.0</td>\n",
       "      <td>8.3</td>\n",
       "      <td>161722.0</td>\n",
       "      <td>7.9</td>\n",
       "      <td>142628.0</td>\n",
       "      <td>7.7</td>\n",
       "      <td>26467.0</td>\n",
       "    </tr>\n",
       "    <tr>\n",
       "      <th>1</th>\n",
       "      <td>True</td>\n",
       "      <td>NaN</td>\n",
       "      <td>True</td>\n",
       "      <td>Wonder Woman</td>\n",
       "      <td>149.0</td>\n",
       "      <td>412.56</td>\n",
       "      <td>447068.0</td>\n",
       "      <td>7.5</td>\n",
       "      <td>76.0</td>\n",
       "      <td>7.6</td>\n",
       "      <td>...</td>\n",
       "      <td>7.4</td>\n",
       "      <td>7.8</td>\n",
       "      <td>7.8</td>\n",
       "      <td>1892.0</td>\n",
       "      <td>7.6</td>\n",
       "      <td>131845.0</td>\n",
       "      <td>7.3</td>\n",
       "      <td>126730.0</td>\n",
       "      <td>7.5</td>\n",
       "      <td>29967.0</td>\n",
       "    </tr>\n",
       "    <tr>\n",
       "      <th>2</th>\n",
       "      <td>True</td>\n",
       "      <td>NaN</td>\n",
       "      <td>True</td>\n",
       "      <td>Dunkirk</td>\n",
       "      <td>100.0</td>\n",
       "      <td>188.37</td>\n",
       "      <td>426046.0</td>\n",
       "      <td>7.9</td>\n",
       "      <td>94.0</td>\n",
       "      <td>9.4</td>\n",
       "      <td>...</td>\n",
       "      <td>7.9</td>\n",
       "      <td>8.0</td>\n",
       "      <td>8.4</td>\n",
       "      <td>1770.0</td>\n",
       "      <td>8.1</td>\n",
       "      <td>138053.0</td>\n",
       "      <td>7.8</td>\n",
       "      <td>117616.0</td>\n",
       "      <td>7.7</td>\n",
       "      <td>28055.0</td>\n",
       "    </tr>\n",
       "    <tr>\n",
       "      <th>3</th>\n",
       "      <td>True</td>\n",
       "      <td>NaN</td>\n",
       "      <td>True</td>\n",
       "      <td>Star Wars Last Jedi</td>\n",
       "      <td>250.0</td>\n",
       "      <td>620.18</td>\n",
       "      <td>426784.0</td>\n",
       "      <td>7.2</td>\n",
       "      <td>85.0</td>\n",
       "      <td>8.5</td>\n",
       "      <td>...</td>\n",
       "      <td>7.1</td>\n",
       "      <td>7.6</td>\n",
       "      <td>7.7</td>\n",
       "      <td>1987.0</td>\n",
       "      <td>7.3</td>\n",
       "      <td>115780.0</td>\n",
       "      <td>7.1</td>\n",
       "      <td>128852.0</td>\n",
       "      <td>7.1</td>\n",
       "      <td>32056.0</td>\n",
       "    </tr>\n",
       "    <tr>\n",
       "      <th>4</th>\n",
       "      <td>True</td>\n",
       "      <td>NaN</td>\n",
       "      <td>True</td>\n",
       "      <td>Guardians of the Galaxy v2</td>\n",
       "      <td>200.0</td>\n",
       "      <td>389.81</td>\n",
       "      <td>422589.0</td>\n",
       "      <td>7.7</td>\n",
       "      <td>67.0</td>\n",
       "      <td>6.7</td>\n",
       "      <td>...</td>\n",
       "      <td>7.6</td>\n",
       "      <td>7.9</td>\n",
       "      <td>8.0</td>\n",
       "      <td>2029.0</td>\n",
       "      <td>7.7</td>\n",
       "      <td>126849.0</td>\n",
       "      <td>7.6</td>\n",
       "      <td>121361.0</td>\n",
       "      <td>7.6</td>\n",
       "      <td>25501.0</td>\n",
       "    </tr>\n",
       "  </tbody>\n",
       "</table>\n",
       "<p>5 rows × 33 columns</p>\n",
       "</div>"
      ],
      "text/plain": [
       "  Top Grossing 2017 Bottom ROI 2017 Most iMDb votes  \\\n",
       "0              True             NaN            True   \n",
       "1              True             NaN            True   \n",
       "2              True             NaN            True   \n",
       "3              True             NaN            True   \n",
       "4              True             NaN            True   \n",
       "\n",
       "                        Title  Est Production Budget $M   US Box $M  \\\n",
       "0                       Logan                       97.0     226.28   \n",
       "1                Wonder Woman                      149.0     412.56   \n",
       "2                     Dunkirk                      100.0     188.37   \n",
       "3         Star Wars Last Jedi                      250.0     620.18   \n",
       "4  Guardians of the Galaxy v2                      200.0     389.81   \n",
       "\n",
       "   Number iMDB Reviews  WeightedAVG  METACRITIC REVIEW ON NOV 21 2018  \\\n",
       "0             519934.0          8.1                              77.0   \n",
       "1             447068.0          7.5                              76.0   \n",
       "2             426046.0          7.9                              94.0   \n",
       "3             426784.0          7.2                              85.0   \n",
       "4             422589.0          7.7                              67.0   \n",
       "\n",
       "   Adjusted Metacritic Review        ...         mAVG  fAVG  GLOBAL <18 AVG  \\\n",
       "0                         7.7        ...          8.1   8.0             8.8   \n",
       "1                         7.6        ...          7.4   7.8             7.8   \n",
       "2                         9.4        ...          7.9   8.0             8.4   \n",
       "3                         8.5        ...          7.1   7.6             7.7   \n",
       "4                         6.7        ...          7.6   7.9             8.0   \n",
       "\n",
       "   GLOBAL <18 VOTES  GLOBAL 18-29 AVG  GLOBAL 18-29 VOTES  GLOBAL 30-44 AVG  \\\n",
       "0            2187.0               8.3            161722.0               7.9   \n",
       "1            1892.0               7.6            131845.0               7.3   \n",
       "2            1770.0               8.1            138053.0               7.8   \n",
       "3            1987.0               7.3            115780.0               7.1   \n",
       "4            2029.0               7.7            126849.0               7.6   \n",
       "\n",
       "   GLOBAL 30-44 VOTES  GLOBAL 45+ AVG  GLOBAL 45+ VOTES  \n",
       "0            142628.0             7.7           26467.0  \n",
       "1            126730.0             7.5           29967.0  \n",
       "2            117616.0             7.7           28055.0  \n",
       "3            128852.0             7.1           32056.0  \n",
       "4            121361.0             7.6           25501.0  \n",
       "\n",
       "[5 rows x 33 columns]"
      ]
     },
     "execution_count": 70,
     "metadata": {},
     "output_type": "execute_result"
    }
   ],
   "source": [
    "# Read the csv file into a pandas DataFrame\n",
    "data = pd.read_csv('/Users/Admin/Documents/Workbook1.csv')\n",
    "data.head()"
   ]
  },
  {
   "cell_type": "markdown",
   "metadata": {},
   "source": [
    "# Female Votes Data to predict overall rating"
   ]
  },
  {
   "cell_type": "code",
   "execution_count": 95,
   "metadata": {},
   "outputs": [],
   "source": [
    "# Assign the data to X and y\n",
    "# reshape to meet 1 column SKlearn requirement\n",
    "\n",
    "y = data.WeightedAVG.values.reshape(-1, 1)\n",
    "X = data.fAVG.values.reshape(-1, 1)\n",
    "\n",
    "#print(\"Shape: \", X.shape, y.shape)\n",
    "# X"
   ]
  },
  {
   "cell_type": "code",
   "execution_count": 96,
   "metadata": {
    "nbgrader": {
     "grade": false,
     "grade_id": "cell-9042a62fdddc21ba",
     "locked": false,
     "schema_version": 1,
     "solution": true
    }
   },
   "outputs": [
    {
     "data": {
      "text/plain": [
       "<matplotlib.collections.PathCollection at 0x1a22cb9208>"
      ]
     },
     "execution_count": 96,
     "metadata": {},
     "output_type": "execute_result"
    },
    {
     "data": {
      "image/png": "[encoded data removed]",
      "text/plain": [
       "<Figure size 432x288 with 1 Axes>"
      ]
     },
     "metadata": {},
     "output_type": "display_data"
    }
   ],
   "source": [
    "# Plot the data\n",
    "\n",
    "plt.scatter(X, y)"
   ]
  },
  {
   "cell_type": "code",
   "execution_count": 97,
   "metadata": {
    "nbgrader": {
     "grade": false,
     "grade_id": "cell-c28431477001b4ca",
     "locked": false,
     "schema_version": 1,
     "solution": true
    }
   },
   "outputs": [],
   "source": [
    "# Create the model and fit the model to the data\n",
    "\n",
    "from sklearn.linear_model import LinearRegression\n",
    "\n",
    "model = LinearRegression()"
   ]
  },
  {
   "cell_type": "code",
   "execution_count": 98,
   "metadata": {
    "nbgrader": {
     "grade": false,
     "grade_id": "cell-cf45418a342b12fd",
     "locked": false,
     "schema_version": 1,
     "solution": true
    }
   },
   "outputs": [
    {
     "data": {
      "text/plain": [
       "LinearRegression(copy_X=True, fit_intercept=True, n_jobs=1, normalize=False)"
      ]
     },
     "execution_count": 98,
     "metadata": {},
     "output_type": "execute_result"
    }
   ],
   "source": [
    "# Fit the model to the data. \n",
    "\n",
    "model.fit(X, y)"
   ]
  },
  {
   "cell_type": "code",
   "execution_count": 99,
   "metadata": {
    "nbgrader": {
     "grade": false,
     "grade_id": "cell-546fc1044e2e1c77",
     "locked": false,
     "schema_version": 1,
     "solution": true
    }
   },
   "outputs": [
    {
     "name": "stdout",
     "output_type": "stream",
     "text": [
      "Weight coefficients:  [[1.12578234]]\n",
      "y-axis intercept:  [-1.06515647]\n"
     ]
    }
   ],
   "source": [
    "# Print the coefficient and the intercept for model\n",
    "\n",
    "print('Weight coefficients: ', model.coef_)\n",
    "print('y-axis intercept: ', model.intercept_)"
   ]
  },
  {
   "cell_type": "code",
   "execution_count": 100,
   "metadata": {},
   "outputs": [
    {
     "name": "stdout",
     "output_type": "stream",
     "text": [
      "Min X Value: [[4.5]]\n",
      "Max X Value: [[8.6]]\n"
     ]
    }
   ],
   "source": [
    "# Transform our min and max values \n",
    "\n",
    "x_min = np.array([[X.min()]])\n",
    "x_max = np.array([[X.max()]])\n",
    "print(f\"Min X Value: {x_min}\")\n",
    "print(f\"Max X Value: {x_max}\")"
   ]
  },
  {
   "cell_type": "code",
   "execution_count": 101,
   "metadata": {
    "nbgrader": {
     "grade": false,
     "grade_id": "cell-5314a52e13fd4e63",
     "locked": false,
     "schema_version": 1,
     "solution": true
    }
   },
   "outputs": [],
   "source": [
    "# Calculate the y_min and y_max using model.predict and x_min and x_max\n",
    "\n",
    "y_min = model.predict(x_min)\n",
    "y_max = model.predict(x_max)"
   ]
  },
  {
   "cell_type": "code",
   "execution_count": 102,
   "metadata": {
    "nbgrader": {
     "grade": false,
     "grade_id": "cell-63f9d27c8f668bfa",
     "locked": false,
     "schema_version": 1,
     "solution": true
    }
   },
   "outputs": [
    {
     "data": {
      "text/plain": [
       "[<matplotlib.lines.Line2D at 0x1a22d2b550>]"
      ]
     },
     "execution_count": 102,
     "metadata": {},
     "output_type": "execute_result"
    },
    {
     "data": {
      "image/png": "[encoded data removed]",
      "text/plain": [
       "<Figure size 432x288 with 1 Axes>"
      ]
     },
     "metadata": {},
     "output_type": "display_data"
    }
   ],
   "source": [
    "#Plot the model\n",
    "\n",
    "plt.scatter(X, y, c='blue')\n",
    "plt.plot([x_min[0], x_max[0]], [y_min[0], y_max[0]], c='red')\n"
   ]
  },
  {
   "cell_type": "markdown",
   "metadata": {},
   "source": [
    "# Male Votes Data to predict overall rating"
   ]
  },
  {
   "cell_type": "code",
   "execution_count": 103,
   "metadata": {},
   "outputs": [],
   "source": [
    "# Assign the data to X and y\n",
    "# reshape to meet 1 column SKlearn requirement\n",
    "\n",
    "y = data.WeightedAVG.values.reshape(-1, 1)\n",
    "X = data.mAVG.values.reshape(-1, 1)\n",
    "\n",
    "#print(\"Shape: \", X.shape, y.shape)\n",
    "# X"
   ]
  },
  {
   "cell_type": "code",
   "execution_count": 104,
   "metadata": {},
   "outputs": [
    {
     "data": {
      "text/plain": [
       "<matplotlib.collections.PathCollection at 0x1a22e6f2e8>"
      ]
     },
     "execution_count": 104,
     "metadata": {},
     "output_type": "execute_result"
    },
    {
     "data": {
      "image/png": "[encoded data removed]",
      "text/plain": [
       "<Figure size 432x288 with 1 Axes>"
      ]
     },
     "metadata": {},
     "output_type": "display_data"
    }
   ],
   "source": [
    "# Plot the data\n",
    "\n",
    "plt.scatter(X, y)"
   ]
  },
  {
   "cell_type": "code",
   "execution_count": 105,
   "metadata": {},
   "outputs": [],
   "source": [
    "# Create the model and fit the model to the data\n",
    "\n",
    "from sklearn.linear_model import LinearRegression\n",
    "\n",
    "model = LinearRegression()"
   ]
  },
  {
   "cell_type": "code",
   "execution_count": 106,
   "metadata": {},
   "outputs": [
    {
     "data": {
      "text/plain": [
       "LinearRegression(copy_X=True, fit_intercept=True, n_jobs=1, normalize=False)"
      ]
     },
     "execution_count": 106,
     "metadata": {},
     "output_type": "execute_result"
    }
   ],
   "source": [
    "# Fit the model to the data. \n",
    "\n",
    "model.fit(X, y)"
   ]
  },
  {
   "cell_type": "code",
   "execution_count": 107,
   "metadata": {},
   "outputs": [
    {
     "name": "stdout",
     "output_type": "stream",
     "text": [
      "Weight coefficients:  [[0.97712407]]\n",
      "y-axis intercept:  [0.21416029]\n"
     ]
    }
   ],
   "source": [
    "# Print the coefficient and the intercept for model\n",
    "\n",
    "print('Weight coefficients: ', model.coef_)\n",
    "print('y-axis intercept: ', model.intercept_)"
   ]
  },
  {
   "cell_type": "code",
   "execution_count": 108,
   "metadata": {},
   "outputs": [
    {
     "name": "stdout",
     "output_type": "stream",
     "text": [
      "Min X Value: [[3.1]]\n",
      "Max X Value: [[8.3]]\n"
     ]
    }
   ],
   "source": [
    "# Transform our min and max values \n",
    "\n",
    "x_min = np.array([[X.min()]])\n",
    "x_max = np.array([[X.max()]])\n",
    "print(f\"Min X Value: {x_min}\")\n",
    "print(f\"Max X Value: {x_max}\")"
   ]
  },
  {
   "cell_type": "code",
   "execution_count": 109,
   "metadata": {},
   "outputs": [],
   "source": [
    "# Calculate the y_min and y_max using model.predict and x_min and x_max\n",
    "\n",
    "y_min = model.predict(x_min)\n",
    "y_max = model.predict(x_max)"
   ]
  },
  {
   "cell_type": "code",
   "execution_count": 110,
   "metadata": {},
   "outputs": [
    {
     "data": {
      "text/plain": [
       "[<matplotlib.lines.Line2D at 0x1a22e81c50>]"
      ]
     },
     "execution_count": 110,
     "metadata": {},
     "output_type": "execute_result"
    },
    {
     "data": {
      "image/png": "[encoded data removed]",
      "text/plain": [
       "<Figure size 432x288 with 1 Axes>"
      ]
     },
     "metadata": {},
     "output_type": "display_data"
    }
   ],
   "source": [
    "#Plot the model\n",
    "\n",
    "plt.scatter(X, y, c='blue')\n",
    "plt.plot([x_min[0], x_max[0]], [y_min[0], y_max[0]], c='red')"
   ]
  },
  {
   "cell_type": "markdown",
   "metadata": {},
   "source": [
    "# Summary\n",
    "\n",
    "While there is a linear correlation between both male and female votes compared to the average overall rating, male votes are more likely to accurately predict the overall average weighted rating of a movie."
   ]
  },
  {
   "cell_type": "code",
   "execution_count": null,
   "metadata": {},
   "outputs": [],
   "source": []
  }
 ],
 "metadata": {
  "celltoolbar": "Create Assignment",
  "kernelspec": {
   "display_name": "Python 3",
   "language": "python",
   "name": "python3"
  },
  "language_info": {
   "codemirror_mode": {
    "name": "ipython",
    "version": 3
   },
   "file_extension": ".py",
   "mimetype": "text/x-python",
   "name": "python",
   "nbconvert_exporter": "python",
   "pygments_lexer": "ipython3",
   "version": "3.6.5"
  },
  "varInspector": {
   "cols": {
    "lenName": 16,
    "lenType": 16,
    "lenVar": 40
   },
   "kernels_config": {
    "python": {
     "delete_cmd_postfix": "",
     "delete_cmd_prefix": "del ",
     "library": "var_list.py",
     "varRefreshCmd": "print(var_dic_list())"
    },
    "r": {
     "delete_cmd_postfix": ") ",
     "delete_cmd_prefix": "rm(",
     "library": "var_list.r",
     "varRefreshCmd": "cat(var_dic_list()) "
    }
   },
   "types_to_exclude": [
    "module",
    "function",
    "builtin_function_or_method",
    "instance",
    "_Feature"
   ],
   "window_display": false
  }
 },
 "nbformat": 4,
 "nbformat_minor": 2
}
